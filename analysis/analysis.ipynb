{
 "cells": [
  {
   "cell_type": "code",
   "execution_count": 1,
   "metadata": {},
   "outputs": [],
   "source": [
    "import sqlite3\n",
    "import pandas as pd\n",
    "from sklearn import linear_model\n",
    "import numpy as np\n",
    "import matplotlib.pyplot as plt"
   ]
  },
  {
   "cell_type": "code",
   "execution_count": 4,
   "metadata": {},
   "outputs": [],
   "source": [
    "conn = sqlite3.connect('../tosql/test.db')\n",
    "\n",
    "df = pd.read_sql_query('SELECT * FROM tasks', conn)"
   ]
  },
  {
   "cell_type": "code",
   "execution_count": 5,
   "metadata": {},
   "outputs": [
    {
     "data": {
      "text/plain": [
       "243"
      ]
     },
     "execution_count": 5,
     "metadata": {},
     "output_type": "execute_result"
    }
   ],
   "source": [
    "len(df)"
   ]
  },
  {
   "cell_type": "code",
   "execution_count": 7,
   "metadata": {},
   "outputs": [
    {
     "data": {
      "text/html": [
       "<div>\n",
       "<style scoped>\n",
       "    .dataframe tbody tr th:only-of-type {\n",
       "        vertical-align: middle;\n",
       "    }\n",
       "\n",
       "    .dataframe tbody tr th {\n",
       "        vertical-align: top;\n",
       "    }\n",
       "\n",
       "    .dataframe thead th {\n",
       "        text-align: right;\n",
       "    }\n",
       "</style>\n",
       "<table border=\"1\" class=\"dataframe\">\n",
       "  <thead>\n",
       "    <tr style=\"text-align: right;\">\n",
       "      <th></th>\n",
       "      <th>d</th>\n",
       "      <th>start</th>\n",
       "      <th>end</th>\n",
       "      <th>name</th>\n",
       "      <th>total</th>\n",
       "      <th>hours</th>\n",
       "      <th>minutes</th>\n",
       "      <th>note</th>\n",
       "    </tr>\n",
       "  </thead>\n",
       "  <tbody>\n",
       "    <tr>\n",
       "      <th>238</th>\n",
       "      <td>06/28/2020</td>\n",
       "      <td>14:16</td>\n",
       "      <td>15:08</td>\n",
       "      <td>code</td>\n",
       "      <td>3168</td>\n",
       "      <td>0</td>\n",
       "      <td>52</td>\n",
       "      <td>cp</td>\n",
       "    </tr>\n",
       "    <tr>\n",
       "      <th>239</th>\n",
       "      <td>06/28/2020</td>\n",
       "      <td>18:34</td>\n",
       "      <td>18:59</td>\n",
       "      <td>code</td>\n",
       "      <td>1500</td>\n",
       "      <td>0</td>\n",
       "      <td>25</td>\n",
       "      <td>cp</td>\n",
       "    </tr>\n",
       "    <tr>\n",
       "      <th>240</th>\n",
       "      <td>06/29/2020</td>\n",
       "      <td>12:34</td>\n",
       "      <td>14:37</td>\n",
       "      <td>code</td>\n",
       "      <td>7359</td>\n",
       "      <td>2</td>\n",
       "      <td>2</td>\n",
       "      <td>cp</td>\n",
       "    </tr>\n",
       "    <tr>\n",
       "      <th>241</th>\n",
       "      <td>06/29/2020</td>\n",
       "      <td>20:45</td>\n",
       "      <td>21:35</td>\n",
       "      <td>code</td>\n",
       "      <td>2995</td>\n",
       "      <td>0</td>\n",
       "      <td>49</td>\n",
       "      <td>HackerRank</td>\n",
       "    </tr>\n",
       "    <tr>\n",
       "      <th>242</th>\n",
       "      <td>06/30/2020</td>\n",
       "      <td>10:45</td>\n",
       "      <td>16:05</td>\n",
       "      <td>code</td>\n",
       "      <td>19194</td>\n",
       "      <td>5</td>\n",
       "      <td>19</td>\n",
       "      <td>HackerRank</td>\n",
       "    </tr>\n",
       "  </tbody>\n",
       "</table>\n",
       "</div>"
      ],
      "text/plain": [
       "              d  start    end  name  total  hours  minutes        note\n",
       "238  06/28/2020  14:16  15:08  code   3168      0       52          cp\n",
       "239  06/28/2020  18:34  18:59  code   1500      0       25          cp\n",
       "240  06/29/2020  12:34  14:37  code   7359      2        2          cp\n",
       "241  06/29/2020  20:45  21:35  code   2995      0       49  HackerRank\n",
       "242  06/30/2020  10:45  16:05  code  19194      5       19  HackerRank"
      ]
     },
     "execution_count": 7,
     "metadata": {},
     "output_type": "execute_result"
    }
   ],
   "source": [
    "df.tail()"
   ]
  },
  {
   "cell_type": "code",
   "execution_count": 8,
   "metadata": {},
   "outputs": [
    {
     "data": {
      "text/html": [
       "<div>\n",
       "<style scoped>\n",
       "    .dataframe tbody tr th:only-of-type {\n",
       "        vertical-align: middle;\n",
       "    }\n",
       "\n",
       "    .dataframe tbody tr th {\n",
       "        vertical-align: top;\n",
       "    }\n",
       "\n",
       "    .dataframe thead th {\n",
       "        text-align: right;\n",
       "    }\n",
       "</style>\n",
       "<table border=\"1\" class=\"dataframe\">\n",
       "  <thead>\n",
       "    <tr style=\"text-align: right;\">\n",
       "      <th></th>\n",
       "      <th>d</th>\n",
       "      <th>start</th>\n",
       "      <th>end</th>\n",
       "      <th>name</th>\n",
       "      <th>total</th>\n",
       "      <th>hours</th>\n",
       "      <th>minutes</th>\n",
       "      <th>note</th>\n",
       "      <th>total_hours</th>\n",
       "    </tr>\n",
       "  </thead>\n",
       "  <tbody>\n",
       "    <tr>\n",
       "      <th>238</th>\n",
       "      <td>06/28/2020</td>\n",
       "      <td>14:16</td>\n",
       "      <td>15:08</td>\n",
       "      <td>code</td>\n",
       "      <td>3168</td>\n",
       "      <td>0</td>\n",
       "      <td>52</td>\n",
       "      <td>cp</td>\n",
       "      <td>0.88</td>\n",
       "    </tr>\n",
       "    <tr>\n",
       "      <th>239</th>\n",
       "      <td>06/28/2020</td>\n",
       "      <td>18:34</td>\n",
       "      <td>18:59</td>\n",
       "      <td>code</td>\n",
       "      <td>1500</td>\n",
       "      <td>0</td>\n",
       "      <td>25</td>\n",
       "      <td>cp</td>\n",
       "      <td>0.42</td>\n",
       "    </tr>\n",
       "    <tr>\n",
       "      <th>240</th>\n",
       "      <td>06/29/2020</td>\n",
       "      <td>12:34</td>\n",
       "      <td>14:37</td>\n",
       "      <td>code</td>\n",
       "      <td>7359</td>\n",
       "      <td>2</td>\n",
       "      <td>2</td>\n",
       "      <td>cp</td>\n",
       "      <td>2.04</td>\n",
       "    </tr>\n",
       "    <tr>\n",
       "      <th>241</th>\n",
       "      <td>06/29/2020</td>\n",
       "      <td>20:45</td>\n",
       "      <td>21:35</td>\n",
       "      <td>code</td>\n",
       "      <td>2995</td>\n",
       "      <td>0</td>\n",
       "      <td>49</td>\n",
       "      <td>HackerRank</td>\n",
       "      <td>0.83</td>\n",
       "    </tr>\n",
       "    <tr>\n",
       "      <th>242</th>\n",
       "      <td>06/30/2020</td>\n",
       "      <td>10:45</td>\n",
       "      <td>16:05</td>\n",
       "      <td>code</td>\n",
       "      <td>19194</td>\n",
       "      <td>5</td>\n",
       "      <td>19</td>\n",
       "      <td>HackerRank</td>\n",
       "      <td>5.33</td>\n",
       "    </tr>\n",
       "  </tbody>\n",
       "</table>\n",
       "</div>"
      ],
      "text/plain": [
       "              d  start    end  name  total  hours  minutes        note  \\\n",
       "238  06/28/2020  14:16  15:08  code   3168      0       52          cp   \n",
       "239  06/28/2020  18:34  18:59  code   1500      0       25          cp   \n",
       "240  06/29/2020  12:34  14:37  code   7359      2        2          cp   \n",
       "241  06/29/2020  20:45  21:35  code   2995      0       49  HackerRank   \n",
       "242  06/30/2020  10:45  16:05  code  19194      5       19  HackerRank   \n",
       "\n",
       "     total_hours  \n",
       "238         0.88  \n",
       "239         0.42  \n",
       "240         2.04  \n",
       "241         0.83  \n",
       "242         5.33  "
      ]
     },
     "execution_count": 8,
     "metadata": {},
     "output_type": "execute_result"
    }
   ],
   "source": [
    "# add column with total hours\n",
    "df['total_hours'] = (df['total'] / 3600).round(2)\n",
    "df.tail()"
   ]
  },
  {
   "cell_type": "code",
   "execution_count": 9,
   "metadata": {
    "scrolled": true
   },
   "outputs": [
    {
     "data": {
      "text/html": [
       "<div>\n",
       "<style scoped>\n",
       "    .dataframe tbody tr th:only-of-type {\n",
       "        vertical-align: middle;\n",
       "    }\n",
       "\n",
       "    .dataframe tbody tr th {\n",
       "        vertical-align: top;\n",
       "    }\n",
       "\n",
       "    .dataframe thead th {\n",
       "        text-align: right;\n",
       "    }\n",
       "</style>\n",
       "<table border=\"1\" class=\"dataframe\">\n",
       "  <thead>\n",
       "    <tr style=\"text-align: right;\">\n",
       "      <th></th>\n",
       "      <th>d</th>\n",
       "      <th>start</th>\n",
       "      <th>end</th>\n",
       "      <th>name</th>\n",
       "      <th>total</th>\n",
       "      <th>hours</th>\n",
       "      <th>minutes</th>\n",
       "      <th>note</th>\n",
       "      <th>total_hours</th>\n",
       "    </tr>\n",
       "  </thead>\n",
       "  <tbody>\n",
       "    <tr>\n",
       "      <th>238</th>\n",
       "      <td>2020-06-28</td>\n",
       "      <td>14:16</td>\n",
       "      <td>15:08</td>\n",
       "      <td>code</td>\n",
       "      <td>3168</td>\n",
       "      <td>0</td>\n",
       "      <td>52</td>\n",
       "      <td>cp</td>\n",
       "      <td>0.88</td>\n",
       "    </tr>\n",
       "    <tr>\n",
       "      <th>239</th>\n",
       "      <td>2020-06-28</td>\n",
       "      <td>18:34</td>\n",
       "      <td>18:59</td>\n",
       "      <td>code</td>\n",
       "      <td>1500</td>\n",
       "      <td>0</td>\n",
       "      <td>25</td>\n",
       "      <td>cp</td>\n",
       "      <td>0.42</td>\n",
       "    </tr>\n",
       "    <tr>\n",
       "      <th>240</th>\n",
       "      <td>2020-06-29</td>\n",
       "      <td>12:34</td>\n",
       "      <td>14:37</td>\n",
       "      <td>code</td>\n",
       "      <td>7359</td>\n",
       "      <td>2</td>\n",
       "      <td>2</td>\n",
       "      <td>cp</td>\n",
       "      <td>2.04</td>\n",
       "    </tr>\n",
       "    <tr>\n",
       "      <th>241</th>\n",
       "      <td>2020-06-29</td>\n",
       "      <td>20:45</td>\n",
       "      <td>21:35</td>\n",
       "      <td>code</td>\n",
       "      <td>2995</td>\n",
       "      <td>0</td>\n",
       "      <td>49</td>\n",
       "      <td>HackerRank</td>\n",
       "      <td>0.83</td>\n",
       "    </tr>\n",
       "    <tr>\n",
       "      <th>242</th>\n",
       "      <td>2020-06-30</td>\n",
       "      <td>10:45</td>\n",
       "      <td>16:05</td>\n",
       "      <td>code</td>\n",
       "      <td>19194</td>\n",
       "      <td>5</td>\n",
       "      <td>19</td>\n",
       "      <td>HackerRank</td>\n",
       "      <td>5.33</td>\n",
       "    </tr>\n",
       "  </tbody>\n",
       "</table>\n",
       "</div>"
      ],
      "text/plain": [
       "             d  start    end  name  total  hours  minutes        note  \\\n",
       "238 2020-06-28  14:16  15:08  code   3168      0       52          cp   \n",
       "239 2020-06-28  18:34  18:59  code   1500      0       25          cp   \n",
       "240 2020-06-29  12:34  14:37  code   7359      2        2          cp   \n",
       "241 2020-06-29  20:45  21:35  code   2995      0       49  HackerRank   \n",
       "242 2020-06-30  10:45  16:05  code  19194      5       19  HackerRank   \n",
       "\n",
       "     total_hours  \n",
       "238         0.88  \n",
       "239         0.42  \n",
       "240         2.04  \n",
       "241         0.83  \n",
       "242         5.33  "
      ]
     },
     "execution_count": 9,
     "metadata": {},
     "output_type": "execute_result"
    }
   ],
   "source": [
    "# change d to datetime\n",
    "df['d'] = pd.to_datetime(df.d)\n",
    "df.tail()"
   ]
  },
  {
   "cell_type": "code",
   "execution_count": 10,
   "metadata": {},
   "outputs": [
    {
     "data": {
      "text/html": [
       "<div>\n",
       "<style scoped>\n",
       "    .dataframe tbody tr th:only-of-type {\n",
       "        vertical-align: middle;\n",
       "    }\n",
       "\n",
       "    .dataframe tbody tr th {\n",
       "        vertical-align: top;\n",
       "    }\n",
       "\n",
       "    .dataframe thead th {\n",
       "        text-align: right;\n",
       "    }\n",
       "</style>\n",
       "<table border=\"1\" class=\"dataframe\">\n",
       "  <thead>\n",
       "    <tr style=\"text-align: right;\">\n",
       "      <th></th>\n",
       "      <th>d</th>\n",
       "      <th>start</th>\n",
       "      <th>end</th>\n",
       "      <th>name</th>\n",
       "      <th>total</th>\n",
       "      <th>hours</th>\n",
       "      <th>minutes</th>\n",
       "      <th>note</th>\n",
       "      <th>total_hours</th>\n",
       "    </tr>\n",
       "  </thead>\n",
       "  <tbody>\n",
       "    <tr>\n",
       "      <th>0</th>\n",
       "      <td>2019-12-23</td>\n",
       "      <td>23:06</td>\n",
       "      <td>23:07</td>\n",
       "      <td>code</td>\n",
       "      <td>8</td>\n",
       "      <td>0</td>\n",
       "      <td>0</td>\n",
       "      <td>did some coding!</td>\n",
       "      <td>0.00</td>\n",
       "    </tr>\n",
       "    <tr>\n",
       "      <th>1</th>\n",
       "      <td>2019-12-24</td>\n",
       "      <td>08:37</td>\n",
       "      <td>08:55</td>\n",
       "      <td>read</td>\n",
       "      <td>1096</td>\n",
       "      <td>0</td>\n",
       "      <td>18</td>\n",
       "      <td></td>\n",
       "      <td>0.30</td>\n",
       "    </tr>\n",
       "    <tr>\n",
       "      <th>2</th>\n",
       "      <td>2019-12-24</td>\n",
       "      <td>12:52</td>\n",
       "      <td>13:47</td>\n",
       "      <td>code</td>\n",
       "      <td>3325</td>\n",
       "      <td>0</td>\n",
       "      <td>55</td>\n",
       "      <td>bathroom break</td>\n",
       "      <td>0.92</td>\n",
       "    </tr>\n",
       "    <tr>\n",
       "      <th>3</th>\n",
       "      <td>2019-12-24</td>\n",
       "      <td>13:55</td>\n",
       "      <td>14:30</td>\n",
       "      <td>code</td>\n",
       "      <td>2129</td>\n",
       "      <td>0</td>\n",
       "      <td>35</td>\n",
       "      <td>break</td>\n",
       "      <td>0.59</td>\n",
       "    </tr>\n",
       "    <tr>\n",
       "      <th>4</th>\n",
       "      <td>2019-12-24</td>\n",
       "      <td>14:41</td>\n",
       "      <td>16:16</td>\n",
       "      <td>code</td>\n",
       "      <td>5709</td>\n",
       "      <td>1</td>\n",
       "      <td>35</td>\n",
       "      <td></td>\n",
       "      <td>1.59</td>\n",
       "    </tr>\n",
       "    <tr>\n",
       "      <th>...</th>\n",
       "      <td>...</td>\n",
       "      <td>...</td>\n",
       "      <td>...</td>\n",
       "      <td>...</td>\n",
       "      <td>...</td>\n",
       "      <td>...</td>\n",
       "      <td>...</td>\n",
       "      <td>...</td>\n",
       "      <td>...</td>\n",
       "    </tr>\n",
       "    <tr>\n",
       "      <th>236</th>\n",
       "      <td>2020-06-28</td>\n",
       "      <td>12:10</td>\n",
       "      <td>12:57</td>\n",
       "      <td>code</td>\n",
       "      <td>2859</td>\n",
       "      <td>0</td>\n",
       "      <td>47</td>\n",
       "      <td>HackerRank</td>\n",
       "      <td>0.79</td>\n",
       "    </tr>\n",
       "    <tr>\n",
       "      <th>239</th>\n",
       "      <td>2020-06-28</td>\n",
       "      <td>18:34</td>\n",
       "      <td>18:59</td>\n",
       "      <td>code</td>\n",
       "      <td>1500</td>\n",
       "      <td>0</td>\n",
       "      <td>25</td>\n",
       "      <td>cp</td>\n",
       "      <td>0.42</td>\n",
       "    </tr>\n",
       "    <tr>\n",
       "      <th>241</th>\n",
       "      <td>2020-06-29</td>\n",
       "      <td>20:45</td>\n",
       "      <td>21:35</td>\n",
       "      <td>code</td>\n",
       "      <td>2995</td>\n",
       "      <td>0</td>\n",
       "      <td>49</td>\n",
       "      <td>HackerRank</td>\n",
       "      <td>0.83</td>\n",
       "    </tr>\n",
       "    <tr>\n",
       "      <th>240</th>\n",
       "      <td>2020-06-29</td>\n",
       "      <td>12:34</td>\n",
       "      <td>14:37</td>\n",
       "      <td>code</td>\n",
       "      <td>7359</td>\n",
       "      <td>2</td>\n",
       "      <td>2</td>\n",
       "      <td>cp</td>\n",
       "      <td>2.04</td>\n",
       "    </tr>\n",
       "    <tr>\n",
       "      <th>242</th>\n",
       "      <td>2020-06-30</td>\n",
       "      <td>10:45</td>\n",
       "      <td>16:05</td>\n",
       "      <td>code</td>\n",
       "      <td>19194</td>\n",
       "      <td>5</td>\n",
       "      <td>19</td>\n",
       "      <td>HackerRank</td>\n",
       "      <td>5.33</td>\n",
       "    </tr>\n",
       "  </tbody>\n",
       "</table>\n",
       "<p>243 rows × 9 columns</p>\n",
       "</div>"
      ],
      "text/plain": [
       "             d  start    end  name  total  hours  minutes              note  \\\n",
       "0   2019-12-23  23:06  23:07  code      8      0        0  did some coding!   \n",
       "1   2019-12-24  08:37  08:55  read   1096      0       18                     \n",
       "2   2019-12-24  12:52  13:47  code   3325      0       55    bathroom break   \n",
       "3   2019-12-24  13:55  14:30  code   2129      0       35             break   \n",
       "4   2019-12-24  14:41  16:16  code   5709      1       35                     \n",
       "..         ...    ...    ...   ...    ...    ...      ...               ...   \n",
       "236 2020-06-28  12:10  12:57  code   2859      0       47        HackerRank   \n",
       "239 2020-06-28  18:34  18:59  code   1500      0       25                cp   \n",
       "241 2020-06-29  20:45  21:35  code   2995      0       49        HackerRank   \n",
       "240 2020-06-29  12:34  14:37  code   7359      2        2                cp   \n",
       "242 2020-06-30  10:45  16:05  code  19194      5       19        HackerRank   \n",
       "\n",
       "     total_hours  \n",
       "0           0.00  \n",
       "1           0.30  \n",
       "2           0.92  \n",
       "3           0.59  \n",
       "4           1.59  \n",
       "..           ...  \n",
       "236         0.79  \n",
       "239         0.42  \n",
       "241         0.83  \n",
       "240         2.04  \n",
       "242         5.33  \n",
       "\n",
       "[243 rows x 9 columns]"
      ]
     },
     "execution_count": 10,
     "metadata": {},
     "output_type": "execute_result"
    }
   ],
   "source": [
    "df.sort_values(by='d')"
   ]
  },
  {
   "cell_type": "markdown",
   "metadata": {},
   "source": [
    "### Trends over time"
   ]
  },
  {
   "cell_type": "code",
   "execution_count": 8,
   "metadata": {},
   "outputs": [],
   "source": [
    "group = df.groupby('d')"
   ]
  },
  {
   "cell_type": "code",
   "execution_count": 22,
   "metadata": {},
   "outputs": [
    {
     "data": {
      "text/plain": [
       "62"
      ]
     },
     "execution_count": 22,
     "metadata": {},
     "output_type": "execute_result"
    }
   ],
   "source": [
    "# how many skipped days?\n",
    "prev = 23\n",
    "skips = 0\n",
    "for date in df.d.unique():\n",
    "    aa = str(date).split('-')\n",
    "    day = aa[2][:2]\n",
    "\n",
    "    if int(day) - int(prev) > 1:\n",
    "        skips += int(day) - int(prev)\n",
    "\n",
    "    prev = day\n",
    "    \n",
    "skips"
   ]
  },
  {
   "cell_type": "code",
   "execution_count": 79,
   "metadata": {},
   "outputs": [],
   "source": [
    "# make time series for plotting\n",
    "time = df.groupby(['d']).sum()['total_hours']\n",
    "time.index = pd.Series(time.index.format())"
   ]
  },
  {
   "cell_type": "code",
   "execution_count": 80,
   "metadata": {},
   "outputs": [
    {
     "data": {
      "text/plain": [
       "62"
      ]
     },
     "execution_count": 80,
     "metadata": {},
     "output_type": "execute_result"
    }
   ],
   "source": [
    "dates_inclusive = pd.date_range(time.index.min(), time.index.max())\n",
    "len(dates_inclusive) - len(time) # matches number of skipped days."
   ]
  },
  {
   "cell_type": "code",
   "execution_count": 81,
   "metadata": {},
   "outputs": [],
   "source": [
    "# add missing dates\n",
    "# https://stackoverflow.com/questions/19324453/add-missing-dates-to-pandas-dataframe\n",
    "\n",
    "idx = pd.date_range(time.index.min(), time.index.max())\n",
    "\n",
    "time.index = pd.DatetimeIndex(time.index)\n",
    "time = time.reindex(idx, fill_value=0)"
   ]
  },
  {
   "cell_type": "code",
   "execution_count": 109,
   "metadata": {},
   "outputs": [],
   "source": [
    "rolling = time.rolling(7).mean()\n",
    "rolling2 = time.rolling(14).mean()\n",
    "rolling3 = time.rolling(28).mean()"
   ]
  },
  {
   "cell_type": "code",
   "execution_count": 88,
   "metadata": {},
   "outputs": [
    {
     "data": {
      "text/plain": [
       "0"
      ]
     },
     "execution_count": 88,
     "metadata": {},
     "output_type": "execute_result"
    }
   ],
   "source": [
    "test = pd.date_range(time.index.min(), time.index.max())\n",
    "len(test) - len(time) # matches number of skipped days."
   ]
  },
  {
   "cell_type": "code",
   "execution_count": null,
   "metadata": {},
   "outputs": [],
   "source": []
  },
  {
   "cell_type": "code",
   "execution_count": 118,
   "metadata": {},
   "outputs": [
    {
     "data": {
      "text/plain": [
       "[<matplotlib.lines.Line2D at 0x1295ea390>]"
      ]
     },
     "execution_count": 118,
     "metadata": {},
     "output_type": "execute_result"
    },
    {
     "data": {
      "image/png": "[encoded data removed]",
      "text/plain": [
       "<Figure size 432x288 with 1 Axes>"
      ]
     },
     "metadata": {
      "needs_background": "light"
     },
     "output_type": "display_data"
    }
   ],
   "source": [
    "plt.scatter(time.index, time, marker='.', color='black')\n",
    "plt.plot(rolling3, color='red')"
   ]
  },
  {
   "cell_type": "code",
   "execution_count": 16,
   "metadata": {},
   "outputs": [],
   "source": [
    "reg = linear_model.LinearRegression()"
   ]
  },
  {
   "cell_type": "code",
   "execution_count": 17,
   "metadata": {
    "scrolled": true
   },
   "outputs": [
    {
     "data": {
      "text/plain": [
       "LinearRegression(copy_X=True, fit_intercept=True, n_jobs=None, normalize=False)"
      ]
     },
     "execution_count": 17,
     "metadata": {},
     "output_type": "execute_result"
    }
   ],
   "source": [
    "reg.fit(df['total_hours'].values.reshape(-1, 1), df.d)"
   ]
  },
  {
   "cell_type": "code",
   "execution_count": 127,
   "metadata": {},
   "outputs": [
    {
     "data": {
      "image/png": "[encoded data removed]",
      "text/plain": [
       "<Figure size 432x288 with 1 Axes>"
      ]
     },
     "metadata": {
      "needs_background": "light"
     },
     "output_type": "display_data"
    }
   ],
   "source": [
    "from scipy.interpolate import interp1d\n",
    "\n",
    "x = np.linspace(0, 10, num=11, endpoint=True)\n",
    "y = np.cos(-x**2/9.0)\n",
    "f = interp1d(x, y)\n",
    "f2 = interp1d(x, y, kind='cubic')\n",
    "\n",
    "xnew = np.linspace(0, 10, num=41, endpoint=True)\n",
    "import matplotlib.pyplot as plt\n",
    "plt.plot(x, y, 'o', xnew, f(xnew), '-', xnew, f2(xnew), '--')\n",
    "plt.legend(['data', 'linear', 'cubic'], loc='best')\n",
    "plt.show()"
   ]
  },
  {
   "cell_type": "code",
   "execution_count": 157,
   "metadata": {},
   "outputs": [],
   "source": [
    "x = np.arange(0, len(time))"
   ]
  },
  {
   "cell_type": "code",
   "execution_count": 158,
   "metadata": {},
   "outputs": [
    {
     "data": {
      "text/plain": [
       "array([  0,   1,   2,   3,   4,   5,   6,   7,   8,   9,  10,  11,  12,\n",
       "        13,  14,  15,  16,  17,  18,  19,  20,  21,  22,  23,  24,  25,\n",
       "        26,  27,  28,  29,  30,  31,  32,  33,  34,  35,  36,  37,  38,\n",
       "        39,  40,  41,  42,  43,  44,  45,  46,  47,  48,  49,  50,  51,\n",
       "        52,  53,  54,  55,  56,  57,  58,  59,  60,  61,  62,  63,  64,\n",
       "        65,  66,  67,  68,  69,  70,  71,  72,  73,  74,  75,  76,  77,\n",
       "        78,  79,  80,  81,  82,  83,  84,  85,  86,  87,  88,  89,  90,\n",
       "        91,  92,  93,  94,  95,  96,  97,  98,  99, 100, 101, 102, 103,\n",
       "       104, 105, 106, 107, 108, 109, 110, 111, 112, 113, 114, 115, 116,\n",
       "       117, 118, 119, 120, 121, 122, 123, 124, 125, 126, 127, 128, 129,\n",
       "       130, 131, 132, 133, 134, 135, 136, 137, 138, 139, 140, 141, 142,\n",
       "       143, 144, 145, 146, 147, 148, 149, 150, 151, 152, 153, 154, 155,\n",
       "       156, 157, 158, 159, 160, 161, 162, 163, 164, 165, 166, 167, 168,\n",
       "       169, 170, 171, 172, 173, 174, 175, 176, 177, 178, 179, 180, 181,\n",
       "       182, 183, 184, 185, 186, 187, 188, 189, 190])"
      ]
     },
     "execution_count": 158,
     "metadata": {},
     "output_type": "execute_result"
    }
   ],
   "source": [
    "x"
   ]
  },
  {
   "cell_type": "code",
   "execution_count": 168,
   "metadata": {},
   "outputs": [
    {
     "data": {
      "text/plain": [
       "array([0.  , 4.64, 4.08, 0.  , 3.32, 1.71, 0.  , 0.  , 0.87, 3.17, 5.02,\n",
       "       3.53, 5.8 , 3.39, 0.  , 3.55, 3.38, 0.  , 2.02, 3.37, 0.  , 1.69,\n",
       "       4.46, 0.61, 0.  , 4.97, 0.  , 0.  , 3.03, 2.21, 1.9 , 2.42, 1.5 ,\n",
       "       1.64, 0.  , 2.24, 3.44, 1.76, 0.  , 0.  , 0.  , 2.26, 2.19, 1.74,\n",
       "       0.  , 0.  , 0.57, 0.  , 2.12, 2.27, 0.  , 0.  , 2.64, 2.97, 0.  ,\n",
       "       3.  , 2.33, 0.69, 1.99, 0.  , 1.65, 0.  , 0.79, 3.05, 2.47, 0.88,\n",
       "       0.  , 2.85, 3.6 , 2.51, 1.25, 1.08, 1.  , 1.74, 1.05, 0.  , 1.29,\n",
       "       2.08, 0.  , 1.54, 4.42, 2.98, 1.01, 2.93, 2.67, 0.86, 0.  , 0.  ,\n",
       "       2.31, 0.83, 2.18, 4.7 , 2.66, 3.33, 0.  , 6.99, 4.33, 0.  , 4.09,\n",
       "       2.06, 9.85, 4.51, 3.81, 3.95, 4.16, 0.  , 3.84, 8.19, 4.18, 3.16,\n",
       "       3.72, 1.4 , 3.06, 0.  , 2.73, 1.93, 4.26, 4.23, 4.16, 1.69, 3.13,\n",
       "       3.56, 3.09, 0.  , 6.61, 0.  , 0.  , 5.06, 0.  , 3.08, 0.  , 0.  ,\n",
       "       0.  , 4.93, 0.  , 0.95, 3.07, 4.85, 0.  , 2.32, 3.5 , 1.39, 7.45,\n",
       "       3.02, 4.56, 5.45, 0.  , 0.  , 0.  , 0.  , 0.  , 0.  , 0.  , 0.  ,\n",
       "       0.  , 0.  , 0.  , 0.  , 0.  , 0.  , 0.  , 0.  , 0.  , 0.  , 0.  ,\n",
       "       0.  , 0.  , 0.  , 2.17, 3.75, 4.72, 2.23, 3.76, 3.44, 2.72, 2.78,\n",
       "       3.23, 0.  , 3.31, 5.18, 7.46, 3.63, 4.04, 5.6 , 4.61, 4.32, 2.18,\n",
       "       4.33, 3.02, 2.87, 5.33])"
      ]
     },
     "execution_count": 168,
     "metadata": {},
     "output_type": "execute_result"
    }
   ],
   "source": []
  },
  {
   "cell_type": "code",
   "execution_count": 174,
   "metadata": {},
   "outputs": [],
   "source": [
    "test = interp1d(x, time.values)"
   ]
  },
  {
   "cell_type": "code",
   "execution_count": 170,
   "metadata": {},
   "outputs": [],
   "source": [
    "xnew = np.arange(0, len(time), 1)"
   ]
  },
  {
   "cell_type": "code",
   "execution_count": 178,
   "metadata": {},
   "outputs": [
    {
     "data": {
      "text/plain": [
       "[<matplotlib.lines.Line2D at 0x129f80b10>]"
      ]
     },
     "execution_count": 178,
     "metadata": {},
     "output_type": "execute_result"
    },
    {
     "data": {
      "image/png": "[encoded data removed]",
      "text/plain": [
       "<Figure size 432x288 with 1 Axes>"
      ]
     },
     "metadata": {
      "needs_background": "light"
     },
     "output_type": "display_data"
    }
   ],
   "source": [
    "plt.plot(x, time)\n",
    "plt.plot(x, test(time.values))"
   ]
  },
  {
   "cell_type": "code",
   "execution_count": null,
   "metadata": {},
   "outputs": [],
   "source": []
  }
 ],
 "metadata": {
  "kernelspec": {
   "display_name": "Python 3",
   "language": "python",
   "name": "python3"
  },
  "language_info": {
   "codemirror_mode": {
    "name": "ipython",
    "version": 3
   },
   "file_extension": ".py",
   "mimetype": "text/x-python",
   "name": "python",
   "nbconvert_exporter": "python",
   "pygments_lexer": "ipython3",
   "version": "3.7.5"
  }
 },
 "nbformat": 4,
 "nbformat_minor": 4
}

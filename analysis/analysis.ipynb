{
 "cells": [
  {
   "cell_type": "code",
   "execution_count": 11,
   "metadata": {},
   "outputs": [],
   "source": [
    "import sqlite3\n",
    "import pandas as pd\n",
    "from sklearn import linear_model\n",
    "import numpy as np\n",
    "import matplotlib.pyplot as plt"
   ]
  },
  {
   "cell_type": "code",
   "execution_count": 2,
   "metadata": {},
   "outputs": [],
   "source": [
    "conn = sqlite3.connect('../tosql/test.db')\n",
    "\n",
    "df = pd.read_sql_query('SELECT * FROM tasks', conn)"
   ]
  },
  {
   "cell_type": "code",
   "execution_count": 3,
   "metadata": {},
   "outputs": [
    {
     "data": {
      "text/plain": [
       "190"
      ]
     },
     "execution_count": 3,
     "metadata": {},
     "output_type": "execute_result"
    }
   ],
   "source": [
    "len(df)"
   ]
  },
  {
   "cell_type": "code",
   "execution_count": 4,
   "metadata": {},
   "outputs": [
    {
     "data": {
      "text/html": [
       "<div>\n",
       "<style scoped>\n",
       "    .dataframe tbody tr th:only-of-type {\n",
       "        vertical-align: middle;\n",
       "    }\n",
       "\n",
       "    .dataframe tbody tr th {\n",
       "        vertical-align: top;\n",
       "    }\n",
       "\n",
       "    .dataframe thead th {\n",
       "        text-align: right;\n",
       "    }\n",
       "</style>\n",
       "<table border=\"1\" class=\"dataframe\">\n",
       "  <thead>\n",
       "    <tr style=\"text-align: right;\">\n",
       "      <th></th>\n",
       "      <th>d</th>\n",
       "      <th>start</th>\n",
       "      <th>end</th>\n",
       "      <th>name</th>\n",
       "      <th>total</th>\n",
       "      <th>hours</th>\n",
       "      <th>minutes</th>\n",
       "      <th>note</th>\n",
       "    </tr>\n",
       "  </thead>\n",
       "  <tbody>\n",
       "    <tr>\n",
       "      <th>0</th>\n",
       "      <td>12/23/2019</td>\n",
       "      <td>23:06</td>\n",
       "      <td>23:07</td>\n",
       "      <td>code</td>\n",
       "      <td>8</td>\n",
       "      <td>0</td>\n",
       "      <td>0</td>\n",
       "      <td>did some coding!</td>\n",
       "    </tr>\n",
       "    <tr>\n",
       "      <th>1</th>\n",
       "      <td>12/24/2019</td>\n",
       "      <td>08:37</td>\n",
       "      <td>08:55</td>\n",
       "      <td>read</td>\n",
       "      <td>1096</td>\n",
       "      <td>0</td>\n",
       "      <td>18</td>\n",
       "      <td></td>\n",
       "    </tr>\n",
       "    <tr>\n",
       "      <th>2</th>\n",
       "      <td>12/24/2019</td>\n",
       "      <td>12:52</td>\n",
       "      <td>13:47</td>\n",
       "      <td>code</td>\n",
       "      <td>3325</td>\n",
       "      <td>0</td>\n",
       "      <td>55</td>\n",
       "      <td>bathroom break</td>\n",
       "    </tr>\n",
       "    <tr>\n",
       "      <th>3</th>\n",
       "      <td>12/24/2019</td>\n",
       "      <td>13:55</td>\n",
       "      <td>14:30</td>\n",
       "      <td>code</td>\n",
       "      <td>2129</td>\n",
       "      <td>0</td>\n",
       "      <td>35</td>\n",
       "      <td>break</td>\n",
       "    </tr>\n",
       "    <tr>\n",
       "      <th>4</th>\n",
       "      <td>12/24/2019</td>\n",
       "      <td>14:41</td>\n",
       "      <td>16:16</td>\n",
       "      <td>code</td>\n",
       "      <td>5709</td>\n",
       "      <td>1</td>\n",
       "      <td>35</td>\n",
       "      <td></td>\n",
       "    </tr>\n",
       "  </tbody>\n",
       "</table>\n",
       "</div>"
      ],
      "text/plain": [
       "            d  start    end  name  total  hours  minutes              note\n",
       "0  12/23/2019  23:06  23:07  code      8      0        0  did some coding!\n",
       "1  12/24/2019  08:37  08:55  read   1096      0       18                  \n",
       "2  12/24/2019  12:52  13:47  code   3325      0       55    bathroom break\n",
       "3  12/24/2019  13:55  14:30  code   2129      0       35             break\n",
       "4  12/24/2019  14:41  16:16  code   5709      1       35                  "
      ]
     },
     "execution_count": 4,
     "metadata": {},
     "output_type": "execute_result"
    }
   ],
   "source": [
    "df.head()"
   ]
  },
  {
   "cell_type": "code",
   "execution_count": 5,
   "metadata": {},
   "outputs": [
    {
     "data": {
      "text/html": [
       "<div>\n",
       "<style scoped>\n",
       "    .dataframe tbody tr th:only-of-type {\n",
       "        vertical-align: middle;\n",
       "    }\n",
       "\n",
       "    .dataframe tbody tr th {\n",
       "        vertical-align: top;\n",
       "    }\n",
       "\n",
       "    .dataframe thead th {\n",
       "        text-align: right;\n",
       "    }\n",
       "</style>\n",
       "<table border=\"1\" class=\"dataframe\">\n",
       "  <thead>\n",
       "    <tr style=\"text-align: right;\">\n",
       "      <th></th>\n",
       "      <th>d</th>\n",
       "      <th>start</th>\n",
       "      <th>end</th>\n",
       "      <th>name</th>\n",
       "      <th>total</th>\n",
       "      <th>hours</th>\n",
       "      <th>minutes</th>\n",
       "      <th>note</th>\n",
       "      <th>total_hours</th>\n",
       "    </tr>\n",
       "  </thead>\n",
       "  <tbody>\n",
       "    <tr>\n",
       "      <th>0</th>\n",
       "      <td>12/23/2019</td>\n",
       "      <td>23:06</td>\n",
       "      <td>23:07</td>\n",
       "      <td>code</td>\n",
       "      <td>8</td>\n",
       "      <td>0</td>\n",
       "      <td>0</td>\n",
       "      <td>did some coding!</td>\n",
       "      <td>0.002222</td>\n",
       "    </tr>\n",
       "    <tr>\n",
       "      <th>1</th>\n",
       "      <td>12/24/2019</td>\n",
       "      <td>08:37</td>\n",
       "      <td>08:55</td>\n",
       "      <td>read</td>\n",
       "      <td>1096</td>\n",
       "      <td>0</td>\n",
       "      <td>18</td>\n",
       "      <td></td>\n",
       "      <td>0.304444</td>\n",
       "    </tr>\n",
       "    <tr>\n",
       "      <th>2</th>\n",
       "      <td>12/24/2019</td>\n",
       "      <td>12:52</td>\n",
       "      <td>13:47</td>\n",
       "      <td>code</td>\n",
       "      <td>3325</td>\n",
       "      <td>0</td>\n",
       "      <td>55</td>\n",
       "      <td>bathroom break</td>\n",
       "      <td>0.923611</td>\n",
       "    </tr>\n",
       "    <tr>\n",
       "      <th>3</th>\n",
       "      <td>12/24/2019</td>\n",
       "      <td>13:55</td>\n",
       "      <td>14:30</td>\n",
       "      <td>code</td>\n",
       "      <td>2129</td>\n",
       "      <td>0</td>\n",
       "      <td>35</td>\n",
       "      <td>break</td>\n",
       "      <td>0.591389</td>\n",
       "    </tr>\n",
       "    <tr>\n",
       "      <th>4</th>\n",
       "      <td>12/24/2019</td>\n",
       "      <td>14:41</td>\n",
       "      <td>16:16</td>\n",
       "      <td>code</td>\n",
       "      <td>5709</td>\n",
       "      <td>1</td>\n",
       "      <td>35</td>\n",
       "      <td></td>\n",
       "      <td>1.585833</td>\n",
       "    </tr>\n",
       "  </tbody>\n",
       "</table>\n",
       "</div>"
      ],
      "text/plain": [
       "            d  start    end  name  total  hours  minutes              note  \\\n",
       "0  12/23/2019  23:06  23:07  code      8      0        0  did some coding!   \n",
       "1  12/24/2019  08:37  08:55  read   1096      0       18                     \n",
       "2  12/24/2019  12:52  13:47  code   3325      0       55    bathroom break   \n",
       "3  12/24/2019  13:55  14:30  code   2129      0       35             break   \n",
       "4  12/24/2019  14:41  16:16  code   5709      1       35                     \n",
       "\n",
       "   total_hours  \n",
       "0     0.002222  \n",
       "1     0.304444  \n",
       "2     0.923611  \n",
       "3     0.591389  \n",
       "4     1.585833  "
      ]
     },
     "execution_count": 5,
     "metadata": {},
     "output_type": "execute_result"
    }
   ],
   "source": [
    "# add column with total hours\n",
    "df['total_hours'] = df['total'] / 3600\n",
    "df.head()"
   ]
  },
  {
   "cell_type": "code",
   "execution_count": 6,
   "metadata": {
    "scrolled": true
   },
   "outputs": [
    {
     "data": {
      "text/html": [
       "<div>\n",
       "<style scoped>\n",
       "    .dataframe tbody tr th:only-of-type {\n",
       "        vertical-align: middle;\n",
       "    }\n",
       "\n",
       "    .dataframe tbody tr th {\n",
       "        vertical-align: top;\n",
       "    }\n",
       "\n",
       "    .dataframe thead th {\n",
       "        text-align: right;\n",
       "    }\n",
       "</style>\n",
       "<table border=\"1\" class=\"dataframe\">\n",
       "  <thead>\n",
       "    <tr style=\"text-align: right;\">\n",
       "      <th></th>\n",
       "      <th>d</th>\n",
       "      <th>start</th>\n",
       "      <th>end</th>\n",
       "      <th>name</th>\n",
       "      <th>total</th>\n",
       "      <th>hours</th>\n",
       "      <th>minutes</th>\n",
       "      <th>note</th>\n",
       "      <th>total_hours</th>\n",
       "    </tr>\n",
       "  </thead>\n",
       "  <tbody>\n",
       "    <tr>\n",
       "      <th>0</th>\n",
       "      <td>2019-12-23</td>\n",
       "      <td>23:06</td>\n",
       "      <td>23:07</td>\n",
       "      <td>code</td>\n",
       "      <td>8</td>\n",
       "      <td>0</td>\n",
       "      <td>0</td>\n",
       "      <td>did some coding!</td>\n",
       "      <td>0.002222</td>\n",
       "    </tr>\n",
       "    <tr>\n",
       "      <th>1</th>\n",
       "      <td>2019-12-24</td>\n",
       "      <td>08:37</td>\n",
       "      <td>08:55</td>\n",
       "      <td>read</td>\n",
       "      <td>1096</td>\n",
       "      <td>0</td>\n",
       "      <td>18</td>\n",
       "      <td></td>\n",
       "      <td>0.304444</td>\n",
       "    </tr>\n",
       "    <tr>\n",
       "      <th>2</th>\n",
       "      <td>2019-12-24</td>\n",
       "      <td>12:52</td>\n",
       "      <td>13:47</td>\n",
       "      <td>code</td>\n",
       "      <td>3325</td>\n",
       "      <td>0</td>\n",
       "      <td>55</td>\n",
       "      <td>bathroom break</td>\n",
       "      <td>0.923611</td>\n",
       "    </tr>\n",
       "    <tr>\n",
       "      <th>3</th>\n",
       "      <td>2019-12-24</td>\n",
       "      <td>13:55</td>\n",
       "      <td>14:30</td>\n",
       "      <td>code</td>\n",
       "      <td>2129</td>\n",
       "      <td>0</td>\n",
       "      <td>35</td>\n",
       "      <td>break</td>\n",
       "      <td>0.591389</td>\n",
       "    </tr>\n",
       "    <tr>\n",
       "      <th>4</th>\n",
       "      <td>2019-12-24</td>\n",
       "      <td>14:41</td>\n",
       "      <td>16:16</td>\n",
       "      <td>code</td>\n",
       "      <td>5709</td>\n",
       "      <td>1</td>\n",
       "      <td>35</td>\n",
       "      <td></td>\n",
       "      <td>1.585833</td>\n",
       "    </tr>\n",
       "  </tbody>\n",
       "</table>\n",
       "</div>"
      ],
      "text/plain": [
       "           d  start    end  name  total  hours  minutes              note  \\\n",
       "0 2019-12-23  23:06  23:07  code      8      0        0  did some coding!   \n",
       "1 2019-12-24  08:37  08:55  read   1096      0       18                     \n",
       "2 2019-12-24  12:52  13:47  code   3325      0       55    bathroom break   \n",
       "3 2019-12-24  13:55  14:30  code   2129      0       35             break   \n",
       "4 2019-12-24  14:41  16:16  code   5709      1       35                     \n",
       "\n",
       "   total_hours  \n",
       "0     0.002222  \n",
       "1     0.304444  \n",
       "2     0.923611  \n",
       "3     0.591389  \n",
       "4     1.585833  "
      ]
     },
     "execution_count": 6,
     "metadata": {},
     "output_type": "execute_result"
    }
   ],
   "source": [
    "# change d to datetime\n",
    "df['d'] = pd.to_datetime(df.d)\n",
    "df.head()"
   ]
  },
  {
   "cell_type": "code",
   "execution_count": 7,
   "metadata": {},
   "outputs": [
    {
     "data": {
      "text/html": [
       "<div>\n",
       "<style scoped>\n",
       "    .dataframe tbody tr th:only-of-type {\n",
       "        vertical-align: middle;\n",
       "    }\n",
       "\n",
       "    .dataframe tbody tr th {\n",
       "        vertical-align: top;\n",
       "    }\n",
       "\n",
       "    .dataframe thead th {\n",
       "        text-align: right;\n",
       "    }\n",
       "</style>\n",
       "<table border=\"1\" class=\"dataframe\">\n",
       "  <thead>\n",
       "    <tr style=\"text-align: right;\">\n",
       "      <th></th>\n",
       "      <th>d</th>\n",
       "      <th>start</th>\n",
       "      <th>end</th>\n",
       "      <th>name</th>\n",
       "      <th>total</th>\n",
       "      <th>hours</th>\n",
       "      <th>minutes</th>\n",
       "      <th>note</th>\n",
       "      <th>total_hours</th>\n",
       "    </tr>\n",
       "  </thead>\n",
       "  <tbody>\n",
       "    <tr>\n",
       "      <th>0</th>\n",
       "      <td>2019-12-23</td>\n",
       "      <td>23:06</td>\n",
       "      <td>23:07</td>\n",
       "      <td>code</td>\n",
       "      <td>8</td>\n",
       "      <td>0</td>\n",
       "      <td>0</td>\n",
       "      <td>did some coding!</td>\n",
       "      <td>0.002222</td>\n",
       "    </tr>\n",
       "    <tr>\n",
       "      <th>1</th>\n",
       "      <td>2019-12-24</td>\n",
       "      <td>08:37</td>\n",
       "      <td>08:55</td>\n",
       "      <td>read</td>\n",
       "      <td>1096</td>\n",
       "      <td>0</td>\n",
       "      <td>18</td>\n",
       "      <td></td>\n",
       "      <td>0.304444</td>\n",
       "    </tr>\n",
       "    <tr>\n",
       "      <th>2</th>\n",
       "      <td>2019-12-24</td>\n",
       "      <td>12:52</td>\n",
       "      <td>13:47</td>\n",
       "      <td>code</td>\n",
       "      <td>3325</td>\n",
       "      <td>0</td>\n",
       "      <td>55</td>\n",
       "      <td>bathroom break</td>\n",
       "      <td>0.923611</td>\n",
       "    </tr>\n",
       "    <tr>\n",
       "      <th>3</th>\n",
       "      <td>2019-12-24</td>\n",
       "      <td>13:55</td>\n",
       "      <td>14:30</td>\n",
       "      <td>code</td>\n",
       "      <td>2129</td>\n",
       "      <td>0</td>\n",
       "      <td>35</td>\n",
       "      <td>break</td>\n",
       "      <td>0.591389</td>\n",
       "    </tr>\n",
       "    <tr>\n",
       "      <th>4</th>\n",
       "      <td>2019-12-24</td>\n",
       "      <td>14:41</td>\n",
       "      <td>16:16</td>\n",
       "      <td>code</td>\n",
       "      <td>5709</td>\n",
       "      <td>1</td>\n",
       "      <td>35</td>\n",
       "      <td></td>\n",
       "      <td>1.585833</td>\n",
       "    </tr>\n",
       "    <tr>\n",
       "      <th>...</th>\n",
       "      <td>...</td>\n",
       "      <td>...</td>\n",
       "      <td>...</td>\n",
       "      <td>...</td>\n",
       "      <td>...</td>\n",
       "      <td>...</td>\n",
       "      <td>...</td>\n",
       "      <td>...</td>\n",
       "      <td>...</td>\n",
       "    </tr>\n",
       "    <tr>\n",
       "      <th>186</th>\n",
       "      <td>2020-05-15</td>\n",
       "      <td>02:00</td>\n",
       "      <td>03:12</td>\n",
       "      <td>math</td>\n",
       "      <td>4331</td>\n",
       "      <td>1</td>\n",
       "      <td>12</td>\n",
       "      <td>topology</td>\n",
       "      <td>1.203056</td>\n",
       "    </tr>\n",
       "    <tr>\n",
       "      <th>185</th>\n",
       "      <td>2020-05-15</td>\n",
       "      <td>00:08</td>\n",
       "      <td>01:34</td>\n",
       "      <td>code</td>\n",
       "      <td>5173</td>\n",
       "      <td>1</td>\n",
       "      <td>26</td>\n",
       "      <td>HackerRank</td>\n",
       "      <td>1.436944</td>\n",
       "    </tr>\n",
       "    <tr>\n",
       "      <th>187</th>\n",
       "      <td>2020-05-15</td>\n",
       "      <td>16:45</td>\n",
       "      <td>18:40</td>\n",
       "      <td>code</td>\n",
       "      <td>6902</td>\n",
       "      <td>1</td>\n",
       "      <td>55</td>\n",
       "      <td>HackerRank</td>\n",
       "      <td>1.917222</td>\n",
       "    </tr>\n",
       "    <tr>\n",
       "      <th>188</th>\n",
       "      <td>2020-05-16</td>\n",
       "      <td>00:23</td>\n",
       "      <td>03:44</td>\n",
       "      <td>code</td>\n",
       "      <td>12048</td>\n",
       "      <td>3</td>\n",
       "      <td>20</td>\n",
       "      <td>youtube</td>\n",
       "      <td>3.346667</td>\n",
       "    </tr>\n",
       "    <tr>\n",
       "      <th>189</th>\n",
       "      <td>2020-05-16</td>\n",
       "      <td>19:25</td>\n",
       "      <td>21:31</td>\n",
       "      <td>code</td>\n",
       "      <td>7566</td>\n",
       "      <td>2</td>\n",
       "      <td>6</td>\n",
       "      <td>youtube</td>\n",
       "      <td>2.101667</td>\n",
       "    </tr>\n",
       "  </tbody>\n",
       "</table>\n",
       "<p>190 rows × 9 columns</p>\n",
       "</div>"
      ],
      "text/plain": [
       "             d  start    end  name  total  hours  minutes              note  \\\n",
       "0   2019-12-23  23:06  23:07  code      8      0        0  did some coding!   \n",
       "1   2019-12-24  08:37  08:55  read   1096      0       18                     \n",
       "2   2019-12-24  12:52  13:47  code   3325      0       55    bathroom break   \n",
       "3   2019-12-24  13:55  14:30  code   2129      0       35             break   \n",
       "4   2019-12-24  14:41  16:16  code   5709      1       35                     \n",
       "..         ...    ...    ...   ...    ...    ...      ...               ...   \n",
       "186 2020-05-15  02:00  03:12  math   4331      1       12          topology   \n",
       "185 2020-05-15  00:08  01:34  code   5173      1       26        HackerRank   \n",
       "187 2020-05-15  16:45  18:40  code   6902      1       55        HackerRank   \n",
       "188 2020-05-16  00:23  03:44  code  12048      3       20           youtube   \n",
       "189 2020-05-16  19:25  21:31  code   7566      2        6           youtube   \n",
       "\n",
       "     total_hours  \n",
       "0       0.002222  \n",
       "1       0.304444  \n",
       "2       0.923611  \n",
       "3       0.591389  \n",
       "4       1.585833  \n",
       "..           ...  \n",
       "186     1.203056  \n",
       "185     1.436944  \n",
       "187     1.917222  \n",
       "188     3.346667  \n",
       "189     2.101667  \n",
       "\n",
       "[190 rows x 9 columns]"
      ]
     },
     "execution_count": 7,
     "metadata": {},
     "output_type": "execute_result"
    }
   ],
   "source": [
    "df.sort_values(by='d')"
   ]
  },
  {
   "cell_type": "markdown",
   "metadata": {},
   "source": [
    "### Trends over time"
   ]
  },
  {
   "cell_type": "code",
   "execution_count": 8,
   "metadata": {},
   "outputs": [],
   "source": [
    "group = df.groupby('d')"
   ]
  },
  {
   "cell_type": "code",
   "execution_count": 147,
   "metadata": {},
   "outputs": [
    {
     "data": {
      "text/plain": [
       "20"
      ]
     },
     "execution_count": 147,
     "metadata": {},
     "output_type": "execute_result"
    }
   ],
   "source": [
    "# how many skipped days?\n",
    "prev = 23\n",
    "skips = 0\n",
    "for date in df.d.unique():\n",
    "    aa = str(date).split('-')\n",
    "    day = aa[2][:2]\n",
    "    if int(day) - prev > 1:\n",
    "        skips += 1\n",
    "skips"
   ]
  },
  {
   "cell_type": "code",
   "execution_count": 142,
   "metadata": {},
   "outputs": [
    {
     "data": {
      "text/plain": [
       "0     2019-12-23\n",
       "1     2019-12-24\n",
       "2     2019-12-24\n",
       "3     2019-12-24\n",
       "4     2019-12-24\n",
       "         ...    \n",
       "185   2020-05-15\n",
       "186   2020-05-15\n",
       "187   2020-05-15\n",
       "188   2020-05-16\n",
       "189   2020-05-16\n",
       "Name: d, Length: 190, dtype: datetime64[ns]"
      ]
     },
     "execution_count": 142,
     "metadata": {},
     "output_type": "execute_result"
    }
   ],
   "source": [
    "df.d"
   ]
  },
  {
   "cell_type": "code",
   "execution_count": 133,
   "metadata": {},
   "outputs": [],
   "source": [
    "time = df.groupby(['d']).sum()['total_hours']\n",
    "time.index = pd.Series(time.index.format())"
   ]
  },
  {
   "cell_type": "code",
   "execution_count": 115,
   "metadata": {},
   "outputs": [],
   "source": [
    "rolling = time.rolling(7).mean()\n",
    "rolling.index = pd.Series(rolling.index.format())"
   ]
  },
  {
   "cell_type": "code",
   "execution_count": 116,
   "metadata": {
    "scrolled": false
   },
   "outputs": [
    {
     "data": {
      "image/png": "[encoded data removed]",
      "text/plain": [
       "<Figure size 432x288 with 1 Axes>"
      ]
     },
     "metadata": {
      "needs_background": "light"
     },
     "output_type": "display_data"
    }
   ],
   "source": [
    "fig, ax = plt.subplots()\n",
    "plt.plot(time)\n",
    "plt.plot(rolling)\n",
    "fig.autofmt_xdate()\n",
    "plt.xticks(np.arange(0, len(rolling), 10))\n",
    "plt.axhline(8, color='pink', linestyle='--')\n",
    "plt.axhline(4, color='pink', linestyle='--')\n",
    "\n",
    "plt.show()"
   ]
  },
  {
   "cell_type": "code",
   "execution_count": 30,
   "metadata": {},
   "outputs": [],
   "source": [
    "??plt.xticks"
   ]
  },
  {
   "cell_type": "code",
   "execution_count": 166,
   "metadata": {},
   "outputs": [],
   "source": [
    "reg = linear_model.LinearRegression()"
   ]
  },
  {
   "cell_type": "code",
   "execution_count": 183,
   "metadata": {
    "scrolled": true
   },
   "outputs": [
    {
     "data": {
      "text/plain": [
       "LinearRegression(copy_X=True, fit_intercept=True, n_jobs=None, normalize=False)"
      ]
     },
     "execution_count": 183,
     "metadata": {},
     "output_type": "execute_result"
    }
   ],
   "source": [
    "reg.fit(df['total_hours'].values.reshape(-1, 1), df.d)"
   ]
  },
  {
   "cell_type": "markdown",
   "metadata": {},
   "source": []
  },
  {
   "cell_type": "code",
   "execution_count": null,
   "metadata": {},
   "outputs": [],
   "source": []
  }
 ],
 "metadata": {
  "kernelspec": {
   "display_name": "Python 3",
   "language": "python",
   "name": "python3"
  },
  "language_info": {
   "codemirror_mode": {
    "name": "ipython",
    "version": 3
   },
   "file_extension": ".py",
   "mimetype": "text/x-python",
   "name": "python",
   "nbconvert_exporter": "python",
   "pygments_lexer": "ipython3",
   "version": "3.7.5"
  }
 },
 "nbformat": 4,
 "nbformat_minor": 2
}
